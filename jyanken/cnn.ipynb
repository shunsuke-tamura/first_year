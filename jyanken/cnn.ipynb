{
 "cells": [
  {
   "cell_type": "code",
   "execution_count": 3,
   "metadata": {},
   "outputs": [],
   "source": [
    "import keras\n",
    "from keras.utils import np_utils\n",
    "from keras.models import Sequential, model_from_json\n",
    "from keras.layers.convolutional import Conv2D, MaxPooling2D\n",
    "from keras.layers.core import Dense, Dropout, Activation, Flatten\n",
    "import numpy as np\n",
    "from sklearn.model_selection import train_test_split\n",
    "from PIL import Image\n",
    "import glob"
   ]
  },
  {
   "cell_type": "code",
   "execution_count": 4,
   "metadata": {},
   "outputs": [],
   "source": [
    "folder = [\"gu\",\"choki\",\"choki_m\",\"pa\",\"pa_m\"]\n",
    "\n",
    "image_size = 64\n",
    "\n",
    "X = []\n",
    "Y = []\n",
    "for index, name in enumerate(folder):\n",
    "    dir = \"./data/\" + name\n",
    "    files = glob.glob(dir + \"/*.jpg\")\n",
    "    for i, file in enumerate(files):\n",
    "        image = Image.open(file)\n",
    "        image = image.convert(\"RGB\")\n",
    "        image = image.resize((image_size, image_size))\n",
    "        data = np.asarray(image)\n",
    "        X.append(data)\n",
    "        Y.append(index)\n",
    "\n",
    "X = np.array(X)\n",
    "Y = np.array(Y)"
   ]
  },
  {
   "cell_type": "code",
   "execution_count": 5,
   "metadata": {},
   "outputs": [],
   "source": [
    "X = X.astype('float32')\n",
    "X = X / 255.0\n",
    "#X = X.reshape((-1, 64, 64, 1))\n",
    "#print(X.shape)"
   ]
  },
  {
   "cell_type": "code",
   "execution_count": 6,
   "metadata": {},
   "outputs": [],
   "source": [
    "# 正解ラベルの形式を変換\n",
    "Y = np_utils.to_categorical(Y, 5)"
   ]
  },
  {
   "cell_type": "code",
   "execution_count": 7,
   "metadata": {},
   "outputs": [],
   "source": [
    "# 学習用データとテストデータ\n",
    "X_train, Y_train = X, Y\n",
    "#X_train, X_test, Y_train, Y_test = train_test_split(X, Y, test_size=0.20)"
   ]
  },
  {
   "cell_type": "code",
   "execution_count": 8,
   "metadata": {},
   "outputs": [
    {
     "name": "stdout",
     "output_type": "stream",
     "text": [
      "(2357, 64, 64, 3) (2357, 5)\n"
     ]
    }
   ],
   "source": [
    "print(X_train.shape, Y_train.shape)"
   ]
  },
  {
   "cell_type": "code",
   "execution_count": 20,
   "metadata": {},
   "outputs": [],
   "source": [
    "# CNNを構築\n",
    "model = Sequential()\n",
    " \n",
    "model.add(Conv2D(32, (3, 3), padding='same',input_shape=(64,64,3)))\n",
    "model.add(Activation('relu'))\n",
    "model.add(Conv2D(32, (3, 3), padding='same'))\n",
    "model.add(Activation('relu'))\n",
    "model.add(MaxPooling2D(pool_size=(2, 2)))\n",
    "model.add(Dropout(0.25))\n",
    " \n",
    "model.add(Conv2D(64, (3, 3), padding='same'))\n",
    "model.add(Activation('relu'))\n",
    "model.add(Conv2D(64, (3, 3), padding='same'))\n",
    "model.add(Activation('relu'))\n",
    "model.add(MaxPooling2D(pool_size=(2, 2)))\n",
    "model.add(Dropout(0.25))\n",
    " \n",
    "model.add(Flatten())\n",
    "model.add(Dense(512))\n",
    "model.add(Activation('relu'))\n",
    "model.add(Dropout(0.5))\n",
    "model.add(Dense(5))\n",
    "model.add(Activation('softmax'))\n",
    " \n",
    "# コンパイル\n",
    "model.compile(loss='categorical_crossentropy',optimizer='SGD',metrics=['accuracy'])"
   ]
  },
  {
   "cell_type": "code",
   "execution_count": 27,
   "metadata": {},
   "outputs": [
    {
     "name": "stdout",
     "output_type": "stream",
     "text": [
      "Epoch 1/10\n",
      "2357/2357 [==============================] - 57s 24ms/step - loss: 0.0404 - acc: 0.9852\n",
      "Epoch 2/10\n",
      "2357/2357 [==============================] - 66s 28ms/step - loss: 0.0374 - acc: 0.9860\n",
      "Epoch 3/10\n",
      "2357/2357 [==============================] - 58s 25ms/step - loss: 0.0304 - acc: 0.9898\n",
      "Epoch 4/10\n",
      "2357/2357 [==============================] - 68s 29ms/step - loss: 0.0394 - acc: 0.9885\n",
      "Epoch 5/10\n",
      "2357/2357 [==============================] - 56s 24ms/step - loss: 0.0305 - acc: 0.9894\n",
      "Epoch 6/10\n",
      "2357/2357 [==============================] - 69s 29ms/step - loss: 0.0410 - acc: 0.9847\n",
      "Epoch 7/10\n",
      "2357/2357 [==============================] - 57s 24ms/step - loss: 0.0297 - acc: 0.9890\n",
      "Epoch 8/10\n",
      "2357/2357 [==============================] - 67s 28ms/step - loss: 0.0295 - acc: 0.9907\n",
      "Epoch 9/10\n",
      "2357/2357 [==============================] - 59s 25ms/step - loss: 0.0288 - acc: 0.9915\n",
      "Epoch 10/10\n",
      "2357/2357 [==============================] - 65s 28ms/step - loss: 0.0174 - acc: 0.9958\n"
     ]
    }
   ],
   "source": [
    "#訓練\n",
    "#history = model.fit(X_train, Y_train, batch_size=32, epochs=8)\n",
    "model.load_weights('jyanken1.h5')\n",
    "history = model.fit(X_train, Y_train, batch_size=32, epochs=10)"
   ]
  },
  {
   "cell_type": "code",
   "execution_count": 28,
   "metadata": {},
   "outputs": [],
   "source": [
    "# モデルの保存\n",
    "open('cnn_jyanken.json',\"w\").write(model.to_json())\n",
    "\n",
    "# 学習済みの重みを保存\n",
    "model.save_weights('jyanken1.h5')"
   ]
  },
  {
   "cell_type": "code",
   "execution_count": 5,
   "metadata": {},
   "outputs": [],
   "source": [
    "import cv2\n",
    "import numpy as np\n",
    "from keras.models import model_from_json\n",
    "\n",
    "def save_frame_camera_cycle(device_num, delay=1, window_name='frame'):\n",
    "    cap = cv2.VideoCapture(device_num)\n",
    "    \n",
    "    # モデルの読み込み\n",
    "    model = model_from_json(open('cnn_jyanken.json', 'r').read())\n",
    "    # 重みの読み込み\n",
    "    #model.load_weights('appraisal.h5')\n",
    "    model.load_weights('jyanken.h5')\n",
    "    \n",
    "    if not cap.isOpened():\n",
    "        return\n",
    "\n",
    "    while True:\n",
    "        ret, frame = cap.read()\n",
    "        frame = cv2.flip(frame, 1)\n",
    "        cv2.rectangle(frame, (390, 200), (610, 450), (255, 255, 0), thickness=2)\n",
    "        \n",
    "        \n",
    "        img = frame[200:450, 390:610]\n",
    "        img = cv2.resize(img, (64, 64))\n",
    "        data = np.asarray(img)\n",
    "        data = data.astype('float32')\n",
    "        data = data / 255.0\n",
    "        data = data.reshape((1, 64, 64, 3))\n",
    "        ans_dat = model.predict(data)\n",
    "        ans_dat = np.argmax(ans_dat)\n",
    "        \n",
    "        if ans_dat == 0:\n",
    "            cv2.putText(frame, '{gu}', (50, 50), cv2.FONT_HERSHEY_SIMPLEX, 1.0, (255, 255, 255), thickness=2)\n",
    "        if ans_dat == 1:\n",
    "            cv2.putText(frame, '{choki}', (50, 50), cv2.FONT_HERSHEY_SIMPLEX, 1.0, (255, 255, 255), thickness=2)\n",
    "        if ans_dat == 2:\n",
    "            cv2.putText(frame, '{choki_m}', (50, 50), cv2.FONT_HERSHEY_SIMPLEX, 1.0, (255, 255, 255), thickness=2)\n",
    "        if ans_dat == 3:\n",
    "            cv2.putText(frame, '{pa}', (50, 50), cv2.FONT_HERSHEY_SIMPLEX, 1.0, (255, 255, 255), thickness=2)\n",
    "        if ans_dat == 4:\n",
    "            cv2.putText(frame, '{pa_m}', (50, 50), cv2.FONT_HERSHEY_SIMPLEX, 1.0, (255, 255, 255), thickness=2)\n",
    "\n",
    "        if cv2.waitKey(delay) & 0xFF == ord('q'):\n",
    "            break\n",
    "        cv2.imshow(window_name, frame)\n",
    "    cv2.destroyWindow(window_name)\n",
    "\n",
    "if __name__ == '__main__':\n",
    "    save_frame_camera_cycle(1)"
   ]
  },
  {
   "cell_type": "code",
   "execution_count": null,
   "metadata": {},
   "outputs": [],
   "source": []
  }
 ],
 "metadata": {
  "kernelspec": {
   "display_name": "jyanken",
   "language": "python",
   "name": "jyanken"
  },
  "language_info": {
   "codemirror_mode": {
    "name": "ipython",
    "version": 3
   },
   "file_extension": ".py",
   "mimetype": "text/x-python",
   "name": "python",
   "nbconvert_exporter": "python",
   "pygments_lexer": "ipython3",
   "version": "3.5.6"
  }
 },
 "nbformat": 4,
 "nbformat_minor": 4
}
